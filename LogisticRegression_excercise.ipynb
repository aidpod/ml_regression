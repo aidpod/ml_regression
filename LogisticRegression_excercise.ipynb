{
  "nbformat": 4,
  "nbformat_minor": 0,
  "metadata": {
    "colab": {
      "provenance": [],
      "toc_visible": true,
      "include_colab_link": true
    },
    "kernelspec": {
      "name": "python3",
      "display_name": "Python 3"
    },
    "language_info": {
      "name": "python"
    }
  },
  "cells": [
    {
      "cell_type": "markdown",
      "metadata": {
        "id": "view-in-github",
        "colab_type": "text"
      },
      "source": [
        "<a href=\"https://colab.research.google.com/github/aidpod/ml_regression/blob/main/LogisticRegression_excercise.ipynb\" target=\"_parent\"><img src=\"https://colab.research.google.com/assets/colab-badge.svg\" alt=\"Open In Colab\"/></a>"
      ]
    },
    {
      "cell_type": "markdown",
      "source": [
        "# Logistic Regression for Classification Task"
      ],
      "metadata": {
        "id": "Wz3M-buC_am4"
      }
    },
    {
      "cell_type": "markdown",
      "source": [
        "Predicting whether or not a user will click on an ad based on the information we have on that user.\n",
        "\n",
        "This data set contains the following features:\n",
        "\n",
        "* 'Daily Time Spent on Site': consumer time on site in minutes\n",
        "\n",
        "* 'Age': cutomer age in years\n",
        "\n",
        "* 'Area Income': Avg. Income of geographical area of consumer\n",
        "\n",
        "* 'Daily Internet Usage': Avg. minutes a day consumer is on the internet\n",
        "\n",
        "* 'Ad Topic Line': Headline of the advertisement\n",
        "\n",
        "* 'City': City of consumer\n",
        "\n",
        "* 'Male': Whether or not consumer was male\n",
        "\n",
        "* 'Country': Country of consumer\n",
        "\n",
        "* 'Timestamp': Time at which consumer clicked on Ad or closed window\n",
        "\n",
        "* 'Clicked on Ad': 0 or 1 indicated clicking on Ad"
      ],
      "metadata": {
        "id": "EVKL5OUZyLEU"
      }
    },
    {
      "cell_type": "markdown",
      "source": [
        "# Loading Packages & Data"
      ],
      "metadata": {
        "id": "fu8Uq3v-y1wY"
      }
    },
    {
      "cell_type": "code",
      "source": [
        "# Load all the libraries needed for the lab\n",
        "import pandas as pd\n",
        "import numpy as np\n",
        "import matplotlib.pyplot as plt\n",
        "import seaborn as sns\n",
        "from sklearn.preprocessing import StandardScaler, MinMaxScaler\n",
        "from sklearn.compose import make_column_transformer\n",
        "from sklearn.model_selection import train_test_split\n",
        "from sklearn import  preprocessing, metrics\n",
        "from sklearn.linear_model import LogisticRegression\n",
        "from sklearn.metrics import accuracy_score, confusion_matrix, classification_report\n",
        "from sklearn.metrics import roc_curve\n",
        "from sklearn.metrics import roc_auc_score\n",
        "%matplotlib inline\n"
      ],
      "metadata": {
        "id": "wAlin825x9f8"
      },
      "execution_count": null,
      "outputs": []
    },
    {
      "cell_type": "code",
      "source": [
        "# Import the data from GitHub repository\n",
        "url = \"https://raw.githubusercontent.com/aidpod/ml_regression/main/advertising.csv\"\n",
        "data = pd.read_csv(url, sep = \",\")"
      ],
      "metadata": {
        "id": "ZmHF7Ijc9AGP"
      },
      "execution_count": null,
      "outputs": []
    },
    {
      "cell_type": "markdown",
      "source": [
        "# Exploratory Data Analysis"
      ],
      "metadata": {
        "id": "UY_yp5h-y84J"
      }
    },
    {
      "cell_type": "code",
      "source": [
        "# Print/Output the first 5 lines of the dataset\n",
        "data.xxxxxx()"
      ],
      "metadata": {
        "id": "5WQQ3swH3gOR"
      },
      "execution_count": null,
      "outputs": []
    },
    {
      "cell_type": "code",
      "source": [
        "# Checking for Null Values\n",
        "data.info()"
      ],
      "metadata": {
        "id": "bEDOcpFcyNtj"
      },
      "execution_count": null,
      "outputs": []
    },
    {
      "cell_type": "code",
      "source": [
        "# Getting the summary info about the columns in the dataset\n",
        "data.describe()"
      ],
      "metadata": {
        "id": "U3n4WF8Pys9r"
      },
      "execution_count": null,
      "outputs": []
    },
    {
      "cell_type": "code",
      "source": [
        "# Plotting the histograms \n",
        "fig, axs = plt.subplots(2, 2, figsize=(7, 7))\n",
        "sns.histplot(data=data, x = \"Daily Time Spent on Site\", kde=True,ax=axs[0, 0])\n",
        "sns.histplot(data=data, x=\"Age\", kde=True, ax=axs[0, 1])\n",
        "sns.histplot(data=data, x=\"Area Income\", kde=True, ax=axs[1, 0])\n",
        "sns.histplot(data=data, x=\"Daily Internet Usage\", kde=True, ax=axs[1, 1])\n",
        "plt.show()"
      ],
      "metadata": {
        "id": "p1ljTHSq5DGc"
      },
      "execution_count": null,
      "outputs": []
    },
    {
      "cell_type": "code",
      "source": [
        "# Plot the pairs plot of all variables in our dataframe, separating class belonging by color\n",
        "sns.xxxxxxx(data, hue='Clicked on Ad')"
      ],
      "metadata": {
        "id": "QAdtK6NI0mVn"
      },
      "execution_count": null,
      "outputs": []
    },
    {
      "cell_type": "code",
      "source": [
        "#Output class count\n",
        "data['Clicked on Ad'].value_counts()"
      ],
      "metadata": {
        "id": "sZalzpmpzFjt"
      },
      "execution_count": null,
      "outputs": []
    },
    {
      "cell_type": "code",
      "source": [
        "#Plot class count\n",
        "sns.countplot(x='Clicked on Ad', data=data)\n",
        "plt.show()"
      ],
      "metadata": {
        "id": "PP0Ebb8v4fq9"
      },
      "execution_count": null,
      "outputs": []
    },
    {
      "cell_type": "code",
      "source": [
        "# Output a heatmap of the correlation matrix\n",
        "plt.figure(figsize=(10, 7))\n",
        "sns.heatmap(data.corr(), annot=True)"
      ],
      "metadata": {
        "id": "51amKKiizoF5"
      },
      "execution_count": null,
      "outputs": []
    },
    {
      "cell_type": "code",
      "source": [
        "#Output a list of 'Price' corrolation values sorted from highest to lowest\n",
        "data.corr()['Clicked on Ad'].sort_values(ascending=False)"
      ],
      "metadata": {
        "id": "cuRsa0g-Gwzt"
      },
      "execution_count": null,
      "outputs": []
    },
    {
      "cell_type": "code",
      "source": [
        "# Check for Outliers:\n",
        "# Output a series of boxplots, visualising values for each column in the dataset\n",
        "fig, ax =plt.xxxxxxx(nrows=4,ncols=1,figsize=(20,25))\n",
        "count = 0\n",
        "for i in range(4):\n",
        "    sns.boxplot(x = data[data.columns[i]],ax=ax[i])\n",
        "    count = count+1"
      ],
      "metadata": {
        "id": "yexO_Xo7H-Wm"
      },
      "execution_count": null,
      "outputs": []
    },
    {
      "cell_type": "markdown",
      "source": [
        "#Data Preparation"
      ],
      "metadata": {
        "id": "4VmQjylg3GTS"
      }
    },
    {
      "cell_type": "code",
      "source": [
        "# Remove outliers\n",
        "# Remove the points outside the interquartile range\n",
        "for col in ['Area Income']:\n",
        "  for x in [col]:\n",
        "      q75,q25 = np.XXXXXXXXXX(data.loc[:,x],[75,25])\n",
        "      intr_qr = q75-q25\n",
        "  \n",
        "      max = q75+(1.5*intr_qr)\n",
        "      min = q25-(1.5*intr_qr)\n",
        "\n",
        "      data = data[data[x] > min]\n",
        "      data = data[data[x] < max]\n",
        "\n",
        "## Reset index\n",
        "data = data.reset_index(drop=True)   "
      ],
      "metadata": {
        "id": "qjnh22mO72FI"
      },
      "execution_count": null,
      "outputs": []
    },
    {
      "cell_type": "code",
      "source": [
        "#Remove redundant columns\n",
        "X = data.drop(['Timestamp', 'Clicked on Ad', 'Ad Topic Line', 'Country', 'City'], axis=1)\n",
        "y = data['XXXXXXXX']\n"
      ],
      "metadata": {
        "id": "eQjSRXP13Tmg"
      },
      "execution_count": null,
      "outputs": []
    },
    {
      "cell_type": "code",
      "source": [
        "#Print the first few rows of the X dataset \n",
        "X.head()"
      ],
      "metadata": {
        "id": "KJJkUeX2Lfnq"
      },
      "execution_count": null,
      "outputs": []
    },
    {
      "cell_type": "code",
      "source": [
        "#Standardization using MinMax Scaler\n",
        "trans = preprocessing.MinMaxScaler()\n",
        "X = pd.DataFrame(trans.fit_transform(X))\n",
        "X = X.rename(columns={0: \"Daily Time Spent on Site\", 1: \"Age\",2: \"Area Income\",3: \"Daily Internet Usage\", 4: \"Male\"})"
      ],
      "metadata": {
        "id": "MaCI_q_uH0XR"
      },
      "execution_count": null,
      "outputs": []
    },
    {
      "cell_type": "code",
      "source": [
        "#Print the first few rows of the X dataset\n",
        "X.head()"
      ],
      "metadata": {
        "id": "fcPlr1iyIHW6"
      },
      "execution_count": null,
      "outputs": []
    },
    {
      "cell_type": "markdown",
      "source": [
        "![image.png](data:image/png;base64,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)"
      ],
      "metadata": {
        "id": "Mcynvgum_aWY"
      }
    },
    {
      "cell_type": "code",
      "source": [
        "# Split the X & y data subsets into X_train, X_test, y_train, y_test, where training set makes 70% of data and test set 30 % of data; random state = 42 for repeatablitity\n",
        "X_train, X_test, y_train, y_test = train_test_split(X, y, test_size=0.3, random_state=42)"
      ],
      "metadata": {
        "id": "YQHpXZ2aH8Lo"
      },
      "execution_count": null,
      "outputs": []
    },
    {
      "cell_type": "code",
      "source": [
        "#Print out the sizes of each of X_train, X_test, y_train, y_test\n",
        "print('X_train size:', X_train.shape)\n",
        "print('X_test size:', X_test.shape)\n",
        "print('y_train size:', y_train.shape)\n",
        "print('y_test size:', y_test.shape)"
      ],
      "metadata": {
        "id": "WM3OvHHqSOwB"
      },
      "execution_count": null,
      "outputs": []
    },
    {
      "cell_type": "code",
      "source": [
        "#OneHot Encode the gender : no need since the default is Male (0/1 default encoding)"
      ],
      "metadata": {
        "id": "YapH2-8I7KQo"
      },
      "execution_count": null,
      "outputs": []
    },
    {
      "cell_type": "markdown",
      "source": [
        "# Fitting Logistic Regression"
      ],
      "metadata": {
        "id": "8gyS6MM87-1F"
      }
    },
    {
      "cell_type": "code",
      "source": [
        "# Fit the model to the training data\n",
        "lr_clf = XXXXXXXXXXX(solver='liblinear')\n",
        "lr_clf.fit(X_train, y_train)"
      ],
      "metadata": {
        "id": "n9xieBFK8FEx"
      },
      "execution_count": null,
      "outputs": []
    },
    {
      "cell_type": "markdown",
      "source": [
        "# Performence Metrics"
      ],
      "metadata": {
        "id": "IO82katA_cg-"
      }
    },
    {
      "cell_type": "code",
      "source": [
        "# Output performence results for testing  data\n",
        "pred_test = lr_clf.predict(X_test)\n",
        "clf_report = pd.DataFrame(classification_report(y_test, pred_test, output_dict=True))\n",
        "print(\"Test Result:\\n================================================\")        \n",
        "print(f\"Accuracy Score: {accuracy_score(y_test, pred_test) * 100:.2f}%\")\n",
        "print(\"_______________________________________________\")\n",
        "print(f\"CLASSIFICATION REPORT:\\n{clf_report}\")\n",
        "print(\"_______________________________________________\")\n",
        "print(f\"Confusion Matrix: \\n {confusion_matrix(y_test, pred_test)}\\n\")"
      ],
      "metadata": {
        "id": "vjAHUDpL8esp"
      },
      "execution_count": null,
      "outputs": []
    },
    {
      "cell_type": "code",
      "source": [
        "# Calculate the confusion matrix\n",
        "cnf_matrix = metrics.XXXXXXXXXXXXXXX(y_test, pred_test)\n",
        "fig, ax = plt.subplots()\n",
        "# Create confusion matrix heatmap\n",
        "sns.heatmap(pd.DataFrame(cnf_matrix), annot=True, cmap=\"YlGnBu\" ,fmt='g')\n",
        "ax.xaxis.set_label_position(\"top\")\n",
        "plt.tight_layout()\n",
        "plt.title('Confusion matrix', y=1.1)\n",
        "plt.ylabel('Actual label')\n",
        "plt.xlabel('Predicted label')\n",
        "ax.xaxis.set_ticklabels(['Non-clicked Ads', 'Clicked Ads']); ax.yaxis.set_ticklabels(['Non-clicked Ads', 'Clicked Ads']);"
      ],
      "metadata": {
        "id": "5qgfCrxu9kML"
      },
      "execution_count": null,
      "outputs": []
    },
    {
      "cell_type": "markdown",
      "source": [
        "##1. Confusion Matrix\n",
        "\n",
        "![image.png](data:image/png;base64,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)\n",
        "\n",
        "True Positive:\n",
        "\n",
        "Interpretation: You predicted positive and it’s true.\n",
        "\n",
        "True Negative:\n",
        "\n",
        "Interpretation: You predicted negative and it’s true.\n",
        "\n",
        "False Positive: (Type 1 Error)\n",
        "\n",
        "Interpretation: You predicted positive and it’s false.\n",
        "\n",
        "False Negative: (Type 2 Error)\n",
        "\n",
        "Interpretation: You predicted negative and it’s false."
      ],
      "metadata": {
        "id": "6q2Q8NSb-rqG"
      }
    },
    {
      "cell_type": "markdown",
      "source": [
        "##2. Precision\n",
        "\n",
        "Precision measures the accuracy of positive predictions.\n",
        "\n",
        "![image.png](data:image/png;base64,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)"
      ],
      "metadata": {
        "id": "1N1czrFy-uN9"
      }
    },
    {
      "cell_type": "markdown",
      "source": [
        "##3. Recall\n",
        "\n",
        "Precision is typically used with recall (Sensitivity or True Positive Rate). The ratio of positive instances that are correctly detected by the classifier.\n",
        "\n",
        "![image.png](data:image/png;base64,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)"
      ],
      "metadata": {
        "id": "bhoa8OY6-xqB"
      }
    },
    {
      "cell_type": "markdown",
      "source": [
        "##4. Receiver Operating Characteristics (ROC) Curve\n",
        "\n",
        "* The ROC curve plots the true positive rate (another name for recall) against \n",
        "the false positive rate. The false positive rate (FPR) is the ratio of negative instances that are incorrectly classified as positive. \n",
        "\n",
        "* It is equal to one minus the true negative rate, which is the ratio of negative instances that are correctly classified as negative.\n",
        "\n",
        "* The TNR is also called specificity. Hence the ROC curve plots sensitivity (recall) versus 1 - specificity."
      ],
      "metadata": {
        "id": "Ihtm_6IK-19j"
      }
    },
    {
      "cell_type": "code",
      "source": [
        "# Plot the ROC Curve\n",
        "\n",
        "def plot_roc_curve(fpr, tpr, label=None):\n",
        "    plt.plot(fpr, tpr, linewidth=2, label=label)\n",
        "    plt.plot([0, 1], [0, 1], \"k--\")\n",
        "    plt.axis([0, 1, 0, 1])\n",
        "    plt.xlabel('False Positive Rate')\n",
        "    plt.ylabel('True Positive Rate')\n",
        "    plt.title('ROC Curve')\n",
        "\n",
        "fpr, tpr, thresholds = roc_curve(y_test, lr_clf.predict(X_test))\n",
        "plt.figure(figsize=(9,6)); \n",
        "plot_roc_curve(fpr, tpr)\n",
        "plt.show();"
      ],
      "metadata": {
        "id": "VaMB4gU18QlA"
      },
      "execution_count": null,
      "outputs": []
    },
    {
      "cell_type": "code",
      "source": [
        "# Calculate the ROC auc score\n",
        "#The ROC AUC score tells us how efficient the model is. The higher the AUC, the better the model's performance at distinguishing between the positive and negative classes\n",
        "roc_auc_score(y_test, lr_clf.predict(X_test))"
      ],
      "metadata": {
        "id": "7oUVwrIK_MbS"
      },
      "execution_count": null,
      "outputs": []
    },
    {
      "cell_type": "markdown",
      "source": [
        "# Using the model"
      ],
      "metadata": {
        "id": "_1AO14JBy6n1"
      }
    },
    {
      "cell_type": "code",
      "source": [
        "daily_time_spent_on_site = int(input(\"Please enter Daily Time Spent on Site in minutes (e.g. 65) : \"))\n",
        "age = int(input(\"Please enter Age (e.g. 36) : \"))\n",
        "area_income = int(input(\"Please enter Area Income (e.g. 60000) : \"))\n",
        "daily_internet_usage = int(input(\"Please enter Daily Internet Usage in minutes (e.g. 180) : \"))\n",
        "male = int(input(\"Please enter is the person is Male (1-if yes, 0-if no : \"))"
      ],
      "metadata": {
        "id": "pafQGov4y8UW"
      },
      "execution_count": null,
      "outputs": []
    },
    {
      "cell_type": "code",
      "source": [
        "# Predict the output using user input from above:\n",
        "user_input = [[daily_time_spent_on_site, age, area_income, daily_internet_usage, male]]\n",
        "user_input_std = pd.DataFrame(trans.fit_transform(user_input))\n",
        "user_input_std = user_input_std.rename(columns={0: \"Daily Time Spent on Site\", 1: \"Age\",2: \"Area Income\",3: \"Daily Internet Usage\", 4: \"Male\"})\n",
        "prediction = lr_clf.predict(user_input_std)\n",
        "print(\"%.2f\" % float(prediction))"
      ],
      "metadata": {
        "id": "gNs0eJeB0BZP"
      },
      "execution_count": null,
      "outputs": []
    },
    {
      "cell_type": "markdown",
      "source": [
        "#Other models"
      ],
      "metadata": {
        "id": "XSfsY5HP1NSR"
      }
    },
    {
      "cell_type": "code",
      "source": [
        "# SVC: Support Vector Classifier\n",
        "#Import svm model\n",
        "from sklearn import svm\n",
        "\n",
        "# Create a svm Classifier\n",
        "clf_svc = svm.SVC(kernel='linear') # linear Kernel\n",
        "\n",
        "#Train the model using the training sets\n",
        "clf_svc.fit(X_train, y_train)\n",
        "\n",
        "#Predict the response for test dataset\n",
        "y_pred_svc = clf_svc.predict(X_test)\n",
        "\n",
        "\n",
        "print(\"Accuracy:\",metrics.accuracy_score(y_test, y_pred_svc))\n",
        "print(\"Precision:\",metrics.precision_score(y_test, y_pred_svc))\n",
        "print(\"Recall:\",metrics.recall_score(y_test, y_pred_svc))"
      ],
      "metadata": {
        "id": "uqY_ek371MKe"
      },
      "execution_count": null,
      "outputs": []
    },
    {
      "cell_type": "code",
      "source": [
        "# LightGBM is a gradient boosting ensemble method\n",
        "#Import lightgbm model\n",
        "import lightgbm as lgb\n",
        "\n",
        "# Define parameters \n",
        "params = {\n",
        "    'task': 'train', \n",
        "    'boosting': 'gbdt',#GradientBoostingDecisionTree\n",
        "    'objective': 'binary', #Binary target feature\n",
        "    'max_depth':10,\n",
        "    'learnnig_rate': 0.05,\n",
        "    'metric': 'binary_logloss' #metric for binary classification\n",
        "}\n",
        "\n",
        "# Converting the dataset into proper LGB format \n",
        "d_train=lgb.Dataset(X_train, label=y_train)\n",
        "\n",
        "# Train the model \n",
        "clf_lgb=lgb.train(params,d_train,100) #train the model on 100 epocs\n",
        "#prediction on the test set\n",
        "y_pred_lgb=clf_lgb.predict(X_test)\n",
        "\n",
        "# Convert to 0/1 : if>=0.5 ---> 1, else ---->0\n",
        "# Rounding the values\n",
        "y_pred_lgb=y_pred_lgb.round(0)\n",
        "# Converting from float to integer\n",
        "y_pred_lgb=y_pred_lgb.astype(int)\n",
        "\n",
        "print(\"Accuracy:\",metrics.accuracy_score(y_test, y_pred_lgb))\n",
        "print(\"Precision:\",metrics.precision_score(y_test, y_pred_lgb))\n",
        "print(\"Recall:\",metrics.recall_score(y_test, y_pred_lgb))"
      ],
      "metadata": {
        "id": "B06rNw793MSM"
      },
      "execution_count": null,
      "outputs": []
    },
    {
      "cell_type": "markdown",
      "source": [
        "<h1> Model Comparison:</h1>\n",
        "<br></br>\n",
        "<table>\n",
        "  <thead>\n",
        "    <tr>\n",
        "      <th>Model</th>\n",
        "      <th>Accuracy</th>\n",
        "    </tr>\n",
        "  </thead>\n",
        "  <tbody>\n",
        "    <tr>\n",
        "      <td>Logistic Regression</td>\n",
        "      <td>XXXX</td>\n",
        "    </tr>\n",
        "    <tr>\n",
        "      <td>SVC</td>\n",
        "      <td>XXXX</td>\n",
        "    </tr>\n",
        "    <tr>\n",
        "      <td>Lightgbm</td>\n",
        "      <td>XXXX</td>\n",
        "    </tr>\n",
        "  </tbody>\n",
        "</table>"
      ],
      "metadata": {
        "id": "ogJOzzj9Fto3"
      }
    },
    {
      "cell_type": "markdown",
      "source": [
        "#Multiclass Classification"
      ],
      "metadata": {
        "id": "RUwZ9T-R59xq"
      }
    },
    {
      "cell_type": "code",
      "source": [
        "# Loading the dataset\n",
        "from sklearn.datasets import load_wine\n",
        "\n",
        "data=load_wine()\n",
        "print(list(data.target_names))\n",
        "df_1=pd.DataFrame(data.data,columns=data.feature_names)\n",
        "Y_1=data.target\n",
        "print(np.unique(Y_1))\n",
        "\n",
        "#Scaling using the Standard Scaler\n",
        "sc_1=StandardScaler()\n",
        "sc_1.fit(df_1)\n",
        "X_1=pd.DataFrame(sc_1.fit_transform(df_1))\n",
        "\n",
        "# Train-test-split\n",
        "X_train,X_test,y_train,y_test=train_test_split(X_1,Y_1,test_size=0.3,random_state=0)\n",
        "\n",
        "# Converting the dataset in proper LGB format\n",
        "d_train=lgb.Dataset(X_train, label=y_train)\n",
        "\n",
        "# setting up the parameters\n",
        "params={}\n",
        "params['learning_rate']=0.03\n",
        "params['boosting_type']='gbdt' #GradientBoostingDecisionTree\n",
        "params['objective']='multiclass' #Multi-class target feature\n",
        "params['metric']='multi_logloss' #metric for multi-class\n",
        "params['max_depth']=10\n",
        "params['num_class']=3 #no.of unique values in the target class \n",
        "\n",
        "# Training the model\n",
        "clf=lgb.train(params,d_train,100)  #training the model on 100 epocs\n",
        "\n",
        "# Prediction on the test dataset\n",
        "y_pred_multi=clf.predict(X_test)\n",
        "\n",
        "# argmax() method for converting to class values\n",
        "y_pred_multi = [np.argmax(line) for line in y_pred_multi]\n",
        "\n",
        "# Evaluation\n",
        "print(\"Accuracy:\",metrics.accuracy_score(y_test, y_pred_multi))\n",
        "print(\"Precision:\",metrics.precision_score(y_test, y_pred_multi, average='micro'))\n",
        "print(\"Recall:\",metrics.recall_score(y_test, y_pred_multi, average='micro'))"
      ],
      "metadata": {
        "id": "wRrtpIJT5868"
      },
      "execution_count": null,
      "outputs": []
    },
    {
      "cell_type": "code",
      "source": [
        "# Confusion matrix for multiclass clasification\n",
        "\n",
        "# Creating  a confusion matrix,which compares the y_test and y_pred\n",
        "cm = confusion_matrix(y_test, y_pred_multi)\n",
        "\n",
        "# Creating a dataframe for a array-formatted Confusion matrix,so it will be easy for plotting.\n",
        "cm_df = pd.DataFrame(cm,\n",
        "                     index = ['class_0', 'class_1', 'class_2'], \n",
        "                     columns = ['class_0', 'class_1', 'class_2'])\n",
        "\n",
        "#Plotting the confusion matrix\n",
        "plt.figure(figsize=(5,4))\n",
        "sns.heatmap(cm_df, annot=True)\n",
        "plt.title('Confusion Matrix')\n",
        "plt.ylabel('Actal Values')\n",
        "plt.xlabel('Predicted Values')\n",
        "plt.show()"
      ],
      "metadata": {
        "id": "e-FYVv7u7ITi"
      },
      "execution_count": null,
      "outputs": []
    }
  ]
}