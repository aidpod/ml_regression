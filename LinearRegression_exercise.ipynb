{
  "nbformat": 4,
  "nbformat_minor": 0,
  "metadata": {
    "colab": {
      "provenance": [],
      "toc_visible": true,
      "include_colab_link": true
    },
    "kernelspec": {
      "name": "python3",
      "display_name": "Python 3"
    },
    "language_info": {
      "name": "python"
    }
  },
  "cells": [
    {
      "cell_type": "markdown",
      "metadata": {
        "id": "view-in-github",
        "colab_type": "text"
      },
      "source": [
        "<a href=\"https://colab.research.google.com/github/aidpod/ml_regression/blob/main/LinearRegression_exercise.ipynb\" target=\"_parent\"><img src=\"https://colab.research.google.com/assets/colab-badge.svg\" alt=\"Open In Colab\"/></a>"
      ]
    },
    {
      "cell_type": "markdown",
      "source": [
        "# Linear Regression for Prediction Task"
      ],
      "metadata": {
        "id": "PebEY3urIqwJ"
      }
    },
    {
      "cell_type": "markdown",
      "source": [
        "\n",
        "Predicting Housing Prices for regions in the USA. \n",
        "\n",
        "The data contains the following columns:\n",
        "\n",
        "\n",
        "* 'Avg. Area Income': Avg. Income of residents of the city house is located in.\n",
        "* 'Avg. Area House Age': Avg Age of Houses in same city\n",
        "* 'Avg. Area Number of Rooms': Avg Number of Rooms for Houses in same city\n",
        "* 'Avg. Area Number of Bedrooms': Avg Number of Bedrooms for Houses in same city\n",
        "* 'Area Population': Population of city house is located in\n",
        "* 'Price': Price that the house sold at\n",
        "* 'Address': Address for the house\n",
        "\n",
        "\n",
        "\n"
      ],
      "metadata": {
        "id": "PLuvGdkWxlNV"
      }
    },
    {
      "cell_type": "markdown",
      "source": [
        "# Loading Packages & Data"
      ],
      "metadata": {
        "id": "AQO1wUm4P77y"
      }
    },
    {
      "cell_type": "code",
      "source": [
        "# Load all the libraries neededfor the lab\n",
        "import pandas as pd\n",
        "import numpy as np\n",
        "import matplotlib.pyplot as plt\n",
        "import seaborn as sns\n",
        "from sklearn.preprocessing import StandardScaler\n",
        "from sklearn.model_selection import train_test_split\n",
        "from sklearn import preprocessing, metrics\n",
        "from sklearn.metrics import mean_squared_error, r2_score\n",
        "from math import sqrt\n",
        "from sklearn.linear_model import LinearRegression\n",
        "from sklearn.model_selection import train_test_split\n",
        "import statsmodels.api as sm\n",
        "%matplotlib inline\n"
      ],
      "metadata": {
        "id": "ymw-ketCFCcL"
      },
      "execution_count": null,
      "outputs": []
    },
    {
      "cell_type": "code",
      "source": [
        "# Import the data from GitHub repository\n",
        "url = \"https://raw.githubusercontent.com/aidpod/ml_regression/main/USA_Housing.csv\"\n",
        "data = pd.read_csv(url, sep = \",\")"
      ],
      "metadata": {
        "id": "1bOf_6hgE2vQ"
      },
      "execution_count": null,
      "outputs": []
    },
    {
      "cell_type": "markdown",
      "source": [
        "# Exploratory Data Analysis"
      ],
      "metadata": {
        "id": "KX2sL7z7QHLT"
      }
    },
    {
      "cell_type": "code",
      "source": [
        "# Print/Output the first 5 lines of the dataset\n",
        "data.head()"
      ],
      "metadata": {
        "id": "T0mqG3oWFPLM"
      },
      "execution_count": null,
      "outputs": []
    },
    {
      "cell_type": "code",
      "source": [
        "# Checking for Null Values\n",
        "#data.info()\n",
        "data.isnull().sum()"
      ],
      "metadata": {
        "id": "bZON2f6EFZlf"
      },
      "execution_count": null,
      "outputs": []
    },
    {
      "cell_type": "code",
      "source": [
        "# Getting the summaries info about the columns in the dataset\n",
        "##################"
      ],
      "metadata": {
        "id": "mvizWHKgFipK"
      },
      "execution_count": null,
      "outputs": []
    },
    {
      "cell_type": "code",
      "source": [
        "# Dropping 'Address' Column\n",
        "data.drop(['Address'],axis=1,inplace=True)"
      ],
      "metadata": {
        "id": "c7Io_A8hFrgm"
      },
      "execution_count": null,
      "outputs": []
    },
    {
      "cell_type": "code",
      "source": [
        "# Plot a pairs plot of all variables in our dataframe\n",
        "sns.pairplot(data)"
      ],
      "metadata": {
        "id": "fk6DAdXRF9du"
      },
      "execution_count": null,
      "outputs": []
    },
    {
      "cell_type": "code",
      "source": [
        "# Output a heatmap of the correlation matrix\n",
        "##########################\n",
        "##########################"
      ],
      "metadata": {
        "id": "PY_S9_dMGL4S"
      },
      "execution_count": null,
      "outputs": []
    },
    {
      "cell_type": "code",
      "source": [
        "#Output a list of 'Price' corrolation values sorted from highest to lowest\n",
        "data.corr().Price.sort_values(ascending=False)"
      ],
      "metadata": {
        "id": "mqbv5h0ZGiG-"
      },
      "execution_count": null,
      "outputs": []
    },
    {
      "cell_type": "code",
      "source": [
        "# Check for Outliers:\n",
        "# Output a series of boxplots, visualising values for each column in the dataset\n",
        "fig, ax =plt.subplots(nrows=6,ncols=1,figsize=(20,25))\n",
        "count = 0\n",
        "for i in range(6):\n",
        "    sns.xxxxxx(x = data[data.columns[i]],ax=ax[i])\n",
        "    count = count+1"
      ],
      "metadata": {
        "id": "SRJoCEDyy-Yp"
      },
      "execution_count": null,
      "outputs": []
    },
    {
      "cell_type": "markdown",
      "source": [
        "# Data Preparation"
      ],
      "metadata": {
        "id": "1kjprdVcQOm4"
      }
    },
    {
      "cell_type": "code",
      "source": [
        "# Remove the outlier points outside the interquartile range\n",
        "for col in data.columns:\n",
        "  for x in [col]:\n",
        "      q75,q25 = np.xxxxxxxxxx(data.loc[:,x],[75,25])\n",
        "      intr_qr = q75-q25\n",
        "  \n",
        "      max = q75+(1.5*intr_qr)\n",
        "      min = q25-(1.5*intr_qr)\n",
        "\n",
        "      data = data[data[x] X min]\n",
        "      data = data[data[x] X max]\n",
        "\n",
        "# Reset index\n",
        "data = data.reset_index(drop=True)      "
      ],
      "metadata": {
        "id": "RKJT8GL4XPW8"
      },
      "execution_count": null,
      "outputs": []
    },
    {
      "cell_type": "code",
      "source": [
        "# Spliting our data set into X,y subsets:\n",
        "# Putting feature variable to X\n",
        "X = data[['Avg. Area Income','Avg. Area House Age','Avg. Area Number of Rooms','Avg. Area Number of Bedrooms','Area Population']]\n",
        "# Putting response variable to y\n",
        "y = data['Price']"
      ],
      "metadata": {
        "id": "sCSOlxQqHQrW"
      },
      "execution_count": null,
      "outputs": []
    },
    {
      "cell_type": "code",
      "source": [
        "#Use Standard Sclar for input transformation\n",
        "# Initialise standard scalar\n",
        "pre_process = preprocessing.xxxxxxxxxxxxx()\n",
        "# Fit standard scalar to X \n",
        "X = pd.DataFrame(pre_process.fit_transform(X))"
      ],
      "metadata": {
        "id": "xkjUZxTWHLYj"
      },
      "execution_count": null,
      "outputs": []
    },
    {
      "cell_type": "code",
      "source": [
        "#Rename X back to original names for clarity\n",
        "X = X.rename(columns={0: 'Avg. Area Income', 1: 'Avg. Area House Age', 2: 'Avg. Area Number of Rooms', 3: 'Avg. Area Number of Bedrooms', 4: 'Area Population'})\n",
        "X.head()"
      ],
      "metadata": {
        "id": "auCQ5kFdKkwE"
      },
      "execution_count": null,
      "outputs": []
    },
    {
      "cell_type": "markdown",
      "source": [
        "![image.png](data:image/png;base64,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)"
      ],
      "metadata": {
        "id": "pGd0d9i4r6lC"
      }
    },
    {
      "cell_type": "code",
      "source": [
        "# Split the X & y data subsets into X_train, X_test, y_train, y_test, where training set makes 70% of data and test set 30 % of data; random state = 2 for repeatablitity\n",
        "X_train, X_test, y_train, y_test = xxxx_xxxxx_xxxxx(X, y, train_size=0.7 ,test_size = 0.3, random_state=2)"
      ],
      "metadata": {
        "id": "S9RRYaDdIQ5a"
      },
      "execution_count": null,
      "outputs": []
    },
    {
      "cell_type": "code",
      "source": [
        "#Print out the sizes of each of X_train, X_test, y_train, y_test\n",
        "print('X_train size:', X_train.shape)\n",
        "print('X_test size:', X_test.shape)\n",
        "print('y_train size:', y_train.shape)\n",
        "print('y_test size:', y_test.shape)"
      ],
      "metadata": {
        "id": "_YK2aP8lIU3S"
      },
      "execution_count": null,
      "outputs": []
    },
    {
      "cell_type": "markdown",
      "source": [
        "# Fitting Linear Regression"
      ],
      "metadata": {
        "id": "GgO5ODApQVVT"
      }
    },
    {
      "cell_type": "code",
      "source": [
        "# Represent LinearRegression as lr/Creating LinearRegression Object\n",
        "lr = LinearRegression()\n",
        "# Fit the model created above to the training data\n",
        "lr.xxx(X_train, y_train)"
      ],
      "metadata": {
        "id": "Iutqgo7DIdZ7"
      },
      "execution_count": null,
      "outputs": []
    },
    {
      "cell_type": "code",
      "source": [
        "# Print the intercept\n",
        "print(lr.intercept_)"
      ],
      "metadata": {
        "id": "MTrZHbc6InEV"
      },
      "execution_count": null,
      "outputs": []
    },
    {
      "cell_type": "code",
      "source": [
        "# Print the coefficients\n",
        "coeff_df = pd.DataFrame(lr.coef_,X_test.columns,columns=['Coefficient'])\n",
        "print(coeff_df)"
      ],
      "metadata": {
        "id": "ZQ7rOVzLIn39"
      },
      "execution_count": null,
      "outputs": []
    },
    {
      "cell_type": "code",
      "source": [
        "# Making predictions using the model on the test data\n",
        "y_pred = lr.xxxxxxxxx(X_test)"
      ],
      "metadata": {
        "id": "8k4nyX9RJniA"
      },
      "execution_count": null,
      "outputs": []
    },
    {
      "cell_type": "markdown",
      "source": [
        "# Performence Metrics"
      ],
      "metadata": {
        "id": "T4_50fAoQfqZ"
      }
    },
    {
      "cell_type": "code",
      "source": [
        "#Calculate the mean squared error, root mean squared error and r-squared coefficient on test data\n",
        "mse = xxxxxxxxxxxxx(y_test, y_pred)\n",
        "rmse = xxxxxxx(mse)\n",
        "r_squared = xxxxxxxxx(y_test, y_pred)"
      ],
      "metadata": {
        "id": "be1qXUI4J4Mi"
      },
      "execution_count": null,
      "outputs": []
    },
    {
      "cell_type": "code",
      "source": [
        "#Print the mean squared error, root mean squared error and r-squared coefficient \n",
        "print('Mean_Squared_Error :' ,mse)\n",
        "print('Root_Mean_Squared_Error :' ,rmse)\n",
        "print('r_square_value :',r_squared)"
      ],
      "metadata": {
        "id": "Kacu_TwsJ6hd"
      },
      "execution_count": null,
      "outputs": []
    },
    {
      "cell_type": "code",
      "source": [
        "#Plot the Estimated Prices vs Actual Prices (scatterplot)\n",
        "plt.figure(dpi = 75)\n",
        "plt.scatter(y_test, y_pred)\n",
        "plt.plot(y_test, y_test, color=\"red\")\n",
        "plt.xlabel(\"Actual Prices\")\n",
        "plt.ylabel(\"Estimated Pricess\")\n",
        "plt.title(\"Model: Actual vs Estimated Prices\")\n",
        "plt.show()"
      ],
      "metadata": {
        "id": "YsnJC_zkM4Xc"
      },
      "execution_count": null,
      "outputs": []
    },
    {
      "cell_type": "code",
      "source": [
        "#Residuals plot (residual= actual y-value − predicted y-value) (scatterplot)\n",
        "plt.figure(dpi = 75)\n",
        "plt.scatter( y_pred, y_test-y_pred)\n",
        "plt.plot(y_pred, np.zeros(len(y_test)),color=\"red\")\n",
        "plt.xlabel(\"Predicted values\")\n",
        "plt.ylabel(\"Residuals\")\n",
        "plt.title(\"Residuals Plot\")\n",
        "plt.show()"
      ],
      "metadata": {
        "id": "uVnKSHCsnIEx"
      },
      "execution_count": null,
      "outputs": []
    },
    {
      "cell_type": "code",
      "source": [
        "# Comparing predctions to actual values\n",
        "res = pd.DataFrame(y_pred, y_test.ravel())\n",
        "res = res.reset_index()\n",
        "res.columns = ['Actual Price', 'Predicted Price']\n",
        "res['Actual Price'] = round(res['Actual Price'], 0)\n",
        "res['Predicted Price'] = round(res['Predicted Price'], 0)\n",
        "res['Difference'] = res['Predicted Price'] - res['Actual Price']\n",
        "res.head(5)"
      ],
      "metadata": {
        "id": "E5Szw7CmjnLs"
      },
      "execution_count": null,
      "outputs": []
    },
    {
      "cell_type": "markdown",
      "source": [
        "# Additional: Ordinary Least Squares regression (OLS)"
      ],
      "metadata": {
        "id": "mfsDcWchQj1A"
      }
    },
    {
      "cell_type": "code",
      "source": [
        "# Renaming data \n",
        "X_train_sm = X_train\n",
        "# Unlike sklearn, statsmodels don't automatically fit a constant, in order to add a constant use sm.add_constant(X) \n",
        "X_train_sm = sm.add_constant(X_train_sm)\n",
        "# Fit the model\n",
        "lm_1 = sm.XXX(y_train,X_train_sm).fit()\n",
        "\n",
        "# Print the coefficients\n",
        "lm_1.params"
      ],
      "metadata": {
        "id": "6nv8PaP2PABp"
      },
      "execution_count": null,
      "outputs": []
    },
    {
      "cell_type": "code",
      "source": [
        "# Print summary of the OLS regression model\n",
        "print(lm_1.summary())"
      ],
      "metadata": {
        "id": "2OEP6u0wO3db"
      },
      "execution_count": null,
      "outputs": []
    },
    {
      "cell_type": "markdown",
      "source": [
        "# Using the model"
      ],
      "metadata": {
        "id": "aKNI4BKGsw2t"
      }
    },
    {
      "cell_type": "code",
      "source": [
        "# The user inputs the data to use for prediction\n",
        "\n",
        "avg_area_income = int(input(\"Please enter avergae area income:(e.g. 70000) \"))\n",
        "avg_house_age = int(input(\"Please enter avergae house age: (e.g. 5)\"))\n",
        "avg_number_of_rooms = int(input(\"Please enter avergae number of rooms: (e.g. 8)\"))\n",
        "avg_number_of_bedrooms = int(input(\"Please enter avergae number of bedrooms: (e.g. 4)\"))\n",
        "avg_population = int(input(\"Please enter avergae population: (e.g. 35000)\"))"
      ],
      "metadata": {
        "id": "mZDXuN37s0od"
      },
      "execution_count": null,
      "outputs": []
    },
    {
      "cell_type": "code",
      "source": [
        "# Using user input from above use the original lr model to predict the output:\n",
        "user_input = [[avg_area_income, avg_house_age, avg_number_of_rooms, avg_number_of_bedrooms, avg_population]]\n",
        "user_input_std = pd.DataFrame(pre_process.fit_transform(user_input) )\n",
        "user_input_std = user_input_std.rename(columns={0: 'Avg. Area Income', 1: 'Avg. Area House Age', 2: 'Avg. Area Number of Rooms', 3: 'Avg. Area Number of Bedrooms', 4: 'Area Population'})\n",
        "prediction = lr.predict(user_input_std)\n",
        "print('Predicted price of the house: ', round(prediction[0], 0))"
      ],
      "metadata": {
        "id": "oDjI7E4ZvDvX"
      },
      "execution_count": null,
      "outputs": []
    },
    {
      "cell_type": "markdown",
      "source": [
        "#Other models"
      ],
      "metadata": {
        "id": "vMg2De-rreAO"
      }
    },
    {
      "cell_type": "code",
      "source": [
        "# SVR: support vector regression model\n",
        "\n",
        "from sklearn.svm import SVR\n",
        "# Fit the model\n",
        "regressor_svr = SVR(kernel = 'rbf', C = 10000) # radial basis function kernel\n",
        "regressor_svr.fit(X_train, y_train)\n",
        "y_pred_svr = regressor_svr.predict(X_test)\n",
        "\n",
        "# Calculate evaluation metrics\n",
        "mse_svr = mean_squared_error(y_test, y_pred_svr)\n",
        "rmse_svr = sqrt(mse_svr)\n",
        "r_squared_svr = r2_score(y_test, y_pred_svr)\n",
        "\n",
        "#Print evaluation metrics\n",
        "print('Mean_Squared_Error :' ,mse_svr)\n",
        "print('Root_Mean_Squared_Error :' ,rmse_svr)\n",
        "print('r_square_value :',r_squared_svr)"
      ],
      "metadata": {
        "id": "nAcVPCEDra_3"
      },
      "execution_count": null,
      "outputs": []
    },
    {
      "cell_type": "code",
      "source": [
        "# LightGBM: gradient boosting ensemble method\n",
        "\n",
        "import lightgbm as lgb\n",
        "# Fit the model\n",
        "\n",
        "# Define parameters \n",
        "params = {\n",
        "    'task': 'train', \n",
        "    'boosting': 'gbdt',\n",
        "    'objective': 'regression',\n",
        "    'num_leaves': 10,\n",
        "    'learnnig_rate': 0.05,\n",
        "    'metric': {'l2','l1'},\n",
        "}\n",
        "\n",
        "# Load data\n",
        "lgb_train = lgb.Dataset(X_train, y_train)\n",
        "lgb_eval = lgb.Dataset(X_test, y_test, reference=lgb_train)\n",
        "\n",
        "# Fit the model\n",
        "model = lgb.train(params,\n",
        "                 train_set=lgb_train,\n",
        "                 valid_sets=lgb_eval,\n",
        "                 early_stopping_rounds=30)\n",
        "\n",
        "# Predict on test data\n",
        "y_pred_lgb = model.predict(X_test)\n",
        "\n",
        "\n",
        "# Calculate evaluation metrics\n",
        "mse_lgb = mean_squared_error(y_test, y_pred_lgb)\n",
        "rmse_lgb = mse**(0.5)\n",
        "r_squared_lgb = r2_score(y_test, y_pred_lgb)\n",
        "\n",
        "#Print evaluation metrics\n",
        "print(\"MSE: %.2f\" % mse_lgb)\n",
        "print(\"RMSE: %.2f\" % rmse_lgb)\n",
        "print(\"R-squared value: %.2f\" % r_squared_lgb)"
      ],
      "metadata": {
        "id": "eCgYGmHFvE1F"
      },
      "execution_count": null,
      "outputs": []
    },
    {
      "cell_type": "markdown",
      "source": [
        "<h1> Model Comparison:</h1>\n",
        "<br></br>\n",
        "<table>\n",
        "  <thead>\n",
        "    <tr>\n",
        "      <th>Model</th>\n",
        "      <th>R^2</th>\n",
        "    </tr>\n",
        "  </thead>\n",
        "  <tbody>\n",
        "    <tr>\n",
        "      <td>Linear Regression</td>\n",
        "      <td>XXXXX</td>\n",
        "    </tr>\n",
        "    <tr>\n",
        "      <td>OLS Linear Regression</td>\n",
        "      <td>XXXXX</td>\n",
        "    </tr>\n",
        "    <tr>\n",
        "      <td>SVR</td>\n",
        "      <td>XXXXX</td>\n",
        "    </tr>\n",
        "    <tr>\n",
        "      <td>Lightgbm</td>\n",
        "      <td>XXXXX</td>\n",
        "    </tr>\n",
        "  </tbody>\n",
        "</table>\n",
        "\n",
        "\n"
      ],
      "metadata": {
        "id": "emQKwGplrQa4"
      }
    }
  ]
}